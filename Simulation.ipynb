{
 "cells": [
  {
   "cell_type": "code",
   "execution_count": 1,
   "metadata": {
    "collapsed": false,
    "scrolled": true
   },
   "outputs": [],
   "source": [
    "import numpy as np\n",
    "import scipy.stats\n",
    "import pandas as pd"
   ]
  },
  {
   "cell_type": "code",
   "execution_count": 2,
   "metadata": {
    "collapsed": true
   },
   "outputs": [],
   "source": [
    "def getExcelFrame(**kwargs):\n",
    "    return pd.read_clipboard(**dict(kwargs, header = kwargs.get(\"header\", None))).as_matrix()"
   ]
  },
  {
   "cell_type": "code",
   "execution_count": 3,
   "metadata": {
    "collapsed": true
   },
   "outputs": [],
   "source": [
    "def pasteExcelFrame(x, header = False, index = False):\n",
    "    pd.DataFrame(x).to_clipboard(header, index)"
   ]
  },
  {
   "cell_type": "code",
   "execution_count": null,
   "metadata": {
    "collapsed": false
   },
   "outputs": [],
   "source": [
    "time_steps = 10*20\n",
    "date0 = 42680\n",
    "dateT = 49985\n",
    "t = np.linspace(date0, dateT, time_steps + 1)\n",
    "#t = np.arange(date0, dateT, 0.25)\n",
    "#time_steps = len(t) - 1\n",
    "\n",
    "time_increment = np.ediff1d(t)/365.25\n",
    "time_increment_sqrt = np.sqrt(time_increment)\n",
    "\n",
    "# kappa\n",
    "kappa = 10.0/100.0\n",
    "\n",
    "# Local Vol \n",
    "a = 1.008013828832\n",
    "b = 0.021415362451\n",
    "c = 0.373827531444\n",
    "\n",
    "sim_num = 1000\n",
    "simulations = np.zeros((sim_num, 2))\n",
    "extrange_brownians = np.empty((0,))\n",
    "extrange_path = np.empty(0)\n",
    "for path in range(sim_num):\n",
    "    x = 0\n",
    "    y = 0\n",
    "    brownians = np.random.normal(0, scale = time_increment_sqrt)\n",
    "    current_path = np.empty((0,2))\n",
    "    for delta, w in zip(time_increment, brownians):\n",
    "        local_vol = a*(b + c*x)\n",
    "        x += (y - kappa*x)*delta + local_vol*w\n",
    "        y += (local_vol**2 - 2*kappa*y)*delta\n",
    "        current_path = np.vstack((current_path, [x,y]))\n",
    "        #print x, y, w\n",
    "        \n",
    "    if not np.isfinite(x):\n",
    "        extrange_brownians = brownians\n",
    "        extrange_path = current_path\n",
    "        \n",
    "    simulations[path, :] = [x, y]"
   ]
  },
  {
   "cell_type": "code",
   "execution_count": null,
   "metadata": {
    "collapsed": true
   },
   "outputs": [],
   "source": [
    "isNan = np.isnan(simulations).sum(axis = 1) == 1\n",
    "isInf = np.isinf(simulations).sum(axis = 1) == 1\n",
    "simulations = simulations[np.isfinite(simulations).prod(axis = 1) == 1]\n",
    "simulations = simulations[(simulations < 100).prod(axis = 1)]"
   ]
  },
  {
   "cell_type": "code",
   "execution_count": null,
   "metadata": {
    "collapsed": false
   },
   "outputs": [],
   "source": [
    "import matplotlib.mlab as mlab\n",
    "import matplotlib.pyplot as plt\n",
    "\n",
    "plt.close('all')\n",
    "f, axarr = plt.subplots(2)\n",
    "\n",
    "num_bins = 50\n",
    "n, bins, patches = axarr[0].hist(simulations[:, 0], num_bins, normed=1, facecolor='green', alpha=0.5)\n",
    "axarr[0].set_title('X Histogram')\n",
    "n, bins, patches = axarr[1].hist(simulations[:, 1], num_bins, normed=1, facecolor='green', alpha=0.5)\n",
    "axarr[1].set_title('Y Histogram')\n",
    "plt.show()"
   ]
  },
  {
   "cell_type": "code",
   "execution_count": null,
   "metadata": {
    "collapsed": false
   },
   "outputs": [],
   "source": [
    "greater_moments = np.array([scipy.stats.moment(simulations, moment=x, axis=0) for x in (2,3)])\n",
    "means = np.mean(simulations, 0)\n",
    "moments = np.vstack((means, greater_moments))\n",
    "moments[1,1] = np.cov(simulations[:,0], simulations[:,1])[0,1]\n",
    "print \"first moment: \", means\n",
    "print \"second moment: \", greater_moments[0,:]\n",
    "print \"third moment: \", greater_moments[1,:]"
   ]
  },
  {
   "cell_type": "code",
   "execution_count": null,
   "metadata": {
    "collapsed": true
   },
   "outputs": [],
   "source": [
    "experimental_values = getExcelFrame().reshape(2,3).T"
   ]
  },
  {
   "cell_type": "code",
   "execution_count": null,
   "metadata": {
    "collapsed": false
   },
   "outputs": [],
   "source": [
    "experimental_values"
   ]
  },
  {
   "cell_type": "code",
   "execution_count": null,
   "metadata": {
    "collapsed": false
   },
   "outputs": [],
   "source": [
    "significan_level = 1.0000000827403710e-011\n",
    "norm_value = scipy.stats.norm.ppf([significan_level/2.0, 1.0 - significan_level/2.0])\n",
    "simulations_quantiles = np.percentile(simulations, [100*significan_level/2.0, 100*(1.0 - significan_level/2.0)])"
   ]
  },
  {
   "cell_type": "code",
   "execution_count": null,
   "metadata": {
    "collapsed": false
   },
   "outputs": [],
   "source": [
    "x = extrange_path[:,0]\n",
    "y = extrange_path[:,1]\n",
    "pasteExcelFrame(np.vstack((x, y, extrange_brownians, a*(b+c*x), (y - kappa*x)*0.50)).T)"
   ]
  },
  {
   "cell_type": "code",
   "execution_count": 23,
   "metadata": {
    "collapsed": false
   },
   "outputs": [
    {
     "ename": "KeyboardInterrupt",
     "evalue": "",
     "output_type": "error",
     "traceback": [
      "\u001b[1;31m---------------------------------------------------------------------------\u001b[0m",
      "\u001b[1;31mKeyboardInterrupt\u001b[0m                         Traceback (most recent call last)",
      "\u001b[1;32m<ipython-input-23-1a0908918bc6>\u001b[0m in \u001b[0;36m<module>\u001b[1;34m()\u001b[0m\n\u001b[0;32m     29\u001b[0m         \u001b[0mx\u001b[0m \u001b[1;33m+=\u001b[0m \u001b[1;33m(\u001b[0m\u001b[0my\u001b[0m \u001b[1;33m-\u001b[0m \u001b[0mkappa\u001b[0m\u001b[1;33m*\u001b[0m\u001b[0mx\u001b[0m \u001b[1;33m-\u001b[0m \u001b[0mlocal_vol\u001b[0m\u001b[1;33m**\u001b[0m\u001b[1;36m2\u001b[0m\u001b[1;33m*\u001b[0m\u001b[0mG\u001b[0m\u001b[1;33m)\u001b[0m\u001b[1;33m*\u001b[0m\u001b[0mdelta\u001b[0m \u001b[1;33m+\u001b[0m \u001b[0mlocal_vol\u001b[0m\u001b[1;33m*\u001b[0m\u001b[0mw\u001b[0m\u001b[1;33m\u001b[0m\u001b[0m\n\u001b[0;32m     30\u001b[0m         \u001b[0my\u001b[0m \u001b[1;33m+=\u001b[0m \u001b[1;33m(\u001b[0m\u001b[0mlocal_vol\u001b[0m\u001b[1;33m**\u001b[0m\u001b[1;36m2\u001b[0m \u001b[1;33m-\u001b[0m \u001b[1;36m2\u001b[0m\u001b[1;33m*\u001b[0m\u001b[0mkappa\u001b[0m\u001b[1;33m*\u001b[0m\u001b[0my\u001b[0m\u001b[1;33m)\u001b[0m\u001b[1;33m*\u001b[0m\u001b[0mdelta\u001b[0m\u001b[1;33m\u001b[0m\u001b[0m\n\u001b[1;32m---> 31\u001b[1;33m         \u001b[0mcurrent_path\u001b[0m \u001b[1;33m=\u001b[0m \u001b[0mnp\u001b[0m\u001b[1;33m.\u001b[0m\u001b[0mvstack\u001b[0m\u001b[1;33m(\u001b[0m\u001b[1;33m(\u001b[0m\u001b[0mcurrent_path\u001b[0m\u001b[1;33m,\u001b[0m \u001b[1;33m[\u001b[0m\u001b[0mx\u001b[0m\u001b[1;33m,\u001b[0m\u001b[0my\u001b[0m\u001b[1;33m]\u001b[0m\u001b[1;33m)\u001b[0m\u001b[1;33m)\u001b[0m\u001b[1;33m\u001b[0m\u001b[0m\n\u001b[0m\u001b[0;32m     32\u001b[0m         \u001b[1;31m#print x, y, w\u001b[0m\u001b[1;33m\u001b[0m\u001b[1;33m\u001b[0m\u001b[0m\n\u001b[0;32m     33\u001b[0m \u001b[1;33m\u001b[0m\u001b[0m\n",
      "\u001b[1;32mc:\\python27\\lib\\site-packages\\numpy\\core\\shape_base.pyc\u001b[0m in \u001b[0;36mvstack\u001b[1;34m(tup)\u001b[0m\n\u001b[0;32m    228\u001b[0m \u001b[1;33m\u001b[0m\u001b[0m\n\u001b[0;32m    229\u001b[0m     \"\"\"\n\u001b[1;32m--> 230\u001b[1;33m     \u001b[1;32mreturn\u001b[0m \u001b[0m_nx\u001b[0m\u001b[1;33m.\u001b[0m\u001b[0mconcatenate\u001b[0m\u001b[1;33m(\u001b[0m\u001b[1;33m[\u001b[0m\u001b[0matleast_2d\u001b[0m\u001b[1;33m(\u001b[0m\u001b[0m_m\u001b[0m\u001b[1;33m)\u001b[0m \u001b[1;32mfor\u001b[0m \u001b[0m_m\u001b[0m \u001b[1;32min\u001b[0m \u001b[0mtup\u001b[0m\u001b[1;33m]\u001b[0m\u001b[1;33m,\u001b[0m \u001b[1;36m0\u001b[0m\u001b[1;33m)\u001b[0m\u001b[1;33m\u001b[0m\u001b[0m\n\u001b[0m\u001b[0;32m    231\u001b[0m \u001b[1;33m\u001b[0m\u001b[0m\n\u001b[0;32m    232\u001b[0m \u001b[1;32mdef\u001b[0m \u001b[0mhstack\u001b[0m\u001b[1;33m(\u001b[0m\u001b[0mtup\u001b[0m\u001b[1;33m)\u001b[0m\u001b[1;33m:\u001b[0m\u001b[1;33m\u001b[0m\u001b[0m\n",
      "\u001b[1;31mKeyboardInterrupt\u001b[0m: "
     ]
    }
   ],
   "source": [
    "time_steps = 1000*20\n",
    "date0 = 42680\n",
    "dateT = 49985\n",
    "dates = np.linspace(date0, dateT, time_steps + 1)\n",
    "time_basis = 325.25\n",
    "time_increment = np.ediff1d(dates)/time_basis\n",
    "np.delete(dates, 0)\n",
    "\n",
    "# kappa\n",
    "kappa = 3.0/100.0\n",
    "\n",
    "# Local Vol \n",
    "a = 0.390061086639\n",
    "b = 0.021415362451\n",
    "c = 0.456175152234\n",
    "\n",
    "sim_num = 1000000\n",
    "simulations = np.zeros((sim_num, 2))\n",
    "extrange_brownians = np.empty((0,))\n",
    "extrange_path = np.empty(0)\n",
    "for path in range(sim_num):\n",
    "    x = 0\n",
    "    y = 0\n",
    "    brownians = np.random.normal(0, scale = np.sqrt(time_increment))\n",
    "    current_path = np.empty((0,2))\n",
    "    for date, delta, w in zip(dates, time_increment, brownians):\n",
    "        G = (1.0 - np.exp(-kappa*(dateT - date)/time_basis))/kappa\n",
    "        local_vol = a*(b + c*x)\n",
    "        x += (y - kappa*x - local_vol**2*G)*delta + local_vol*w\n",
    "        y += (local_vol**2 - 2*kappa*y)*delta\n",
    "        current_path = np.vstack((current_path, [x,y]))\n",
    "        #print x, y, w\n",
    "        \n",
    "    if not np.isfinite(x):\n",
    "        extrange_brownians = brownians\n",
    "        extrange_path = current_path\n",
    "        \n",
    "    simulations[path, :] = [x, y]"
   ]
  },
  {
   "cell_type": "code",
   "execution_count": 6,
   "metadata": {
    "collapsed": false
   },
   "outputs": [
    {
     "data": {
      "text/plain": [
       "array([ 0.95244795,  0.1825793 ])"
      ]
     },
     "execution_count": 6,
     "metadata": {},
     "output_type": "execute_result"
    }
   ],
   "source": [
    "simulations.max(axis = 0)"
   ]
  },
  {
   "cell_type": "code",
   "execution_count": 11,
   "metadata": {
    "collapsed": false
   },
   "outputs": [
    {
     "data": {
      "text/plain": [
       "array([], dtype=float64)"
      ]
     },
     "execution_count": 11,
     "metadata": {},
     "output_type": "execute_result"
    }
   ],
   "source": [
    "extrange_path"
   ]
  },
  {
   "cell_type": "code",
   "execution_count": null,
   "metadata": {
    "collapsed": false
   },
   "outputs": [],
   "source": [
    "pd.DataFrame(simulations).to_csv(r\"C:\\Users\\e022434\\cheyette.csv\" , index = False, header = False, mode = 'w+')"
   ]
  },
  {
   "cell_type": "code",
   "execution_count": null,
   "metadata": {
    "collapsed": true
   },
   "outputs": [],
   "source": [
    "a"
   ]
  },
  {
   "cell_type": "code",
   "execution_count": null,
   "metadata": {
    "collapsed": true
   },
   "outputs": [],
   "source": []
  }
 ],
 "metadata": {
  "kernelspec": {
   "display_name": "Python 2",
   "language": "python",
   "name": "python2"
  },
  "language_info": {
   "codemirror_mode": {
    "name": "ipython",
    "version": 2
   },
   "file_extension": ".py",
   "mimetype": "text/x-python",
   "name": "python",
   "nbconvert_exporter": "python",
   "pygments_lexer": "ipython2",
   "version": "2.7.11"
  }
 },
 "nbformat": 4,
 "nbformat_minor": 0
}
