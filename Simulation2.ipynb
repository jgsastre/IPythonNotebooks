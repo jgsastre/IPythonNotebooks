{
 "cells": [
  {
   "cell_type": "code",
   "execution_count": 1,
   "metadata": {
    "collapsed": false,
    "scrolled": true
   },
   "outputs": [
    {
     "ename": "ImportError",
     "evalue": "DLL load failed: The specified module could not be found.",
     "output_type": "error",
     "traceback": [
      "\u001b[0;31m---------------------------------------------------------------------------\u001b[0m",
      "\u001b[0;31mImportError\u001b[0m                               Traceback (most recent call last)",
      "\u001b[0;32m<ipython-input-1-b703761b6ab7>\u001b[0m in \u001b[0;36m<module>\u001b[0;34m()\u001b[0m\n\u001b[1;32m      1\u001b[0m \u001b[1;32mimport\u001b[0m \u001b[0mnumpy\u001b[0m \u001b[1;32mas\u001b[0m \u001b[0mnp\u001b[0m\u001b[1;33m\u001b[0m\u001b[0m\n\u001b[1;32m      2\u001b[0m \u001b[1;32mimport\u001b[0m \u001b[0mpandas\u001b[0m \u001b[1;32mas\u001b[0m \u001b[0mpd\u001b[0m\u001b[1;33m\u001b[0m\u001b[0m\n\u001b[0;32m----> 3\u001b[0;31m \u001b[1;32mfrom\u001b[0m \u001b[0mscipy\u001b[0m\u001b[1;33m.\u001b[0m\u001b[0mstats\u001b[0m \u001b[1;32mimport\u001b[0m \u001b[0mnorm\u001b[0m\u001b[1;33m\u001b[0m\u001b[0m\n\u001b[0m",
      "\u001b[0;32mc:\\python27\\lib\\site-packages\\scipy\\stats\\__init__.py\u001b[0m in \u001b[0;36m<module>\u001b[0;34m()\u001b[0m\n\u001b[1;32m    319\u001b[0m \u001b[1;32mfrom\u001b[0m \u001b[0m__future__\u001b[0m \u001b[1;32mimport\u001b[0m \u001b[0mdivision\u001b[0m\u001b[1;33m,\u001b[0m \u001b[0mprint_function\u001b[0m\u001b[1;33m,\u001b[0m \u001b[0mabsolute_import\u001b[0m\u001b[1;33m\u001b[0m\u001b[0m\n\u001b[1;32m    320\u001b[0m \u001b[1;33m\u001b[0m\u001b[0m\n\u001b[0;32m--> 321\u001b[0;31m \u001b[1;32mfrom\u001b[0m \u001b[1;33m.\u001b[0m\u001b[0mstats\u001b[0m \u001b[1;32mimport\u001b[0m \u001b[1;33m*\u001b[0m\u001b[1;33m\u001b[0m\u001b[0m\n\u001b[0m\u001b[1;32m    322\u001b[0m \u001b[1;32mfrom\u001b[0m \u001b[1;33m.\u001b[0m\u001b[0mdistributions\u001b[0m \u001b[1;32mimport\u001b[0m \u001b[1;33m*\u001b[0m\u001b[1;33m\u001b[0m\u001b[0m\n\u001b[1;32m    323\u001b[0m \u001b[1;32mfrom\u001b[0m \u001b[1;33m.\u001b[0m\u001b[0mmorestats\u001b[0m \u001b[1;32mimport\u001b[0m \u001b[1;33m*\u001b[0m\u001b[1;33m\u001b[0m\u001b[0m\n",
      "\u001b[0;32mc:\\python27\\lib\\site-packages\\scipy\\stats\\stats.py\u001b[0m in \u001b[0;36m<module>\u001b[0;34m()\u001b[0m\n\u001b[1;32m    178\u001b[0m \u001b[1;32mfrom\u001b[0m \u001b[0mscipy\u001b[0m\u001b[1;33m.\u001b[0m\u001b[0m_lib\u001b[0m\u001b[1;33m.\u001b[0m\u001b[0msix\u001b[0m \u001b[1;32mimport\u001b[0m \u001b[0mcallable\u001b[0m\u001b[1;33m,\u001b[0m \u001b[0mstring_types\u001b[0m\u001b[1;33m\u001b[0m\u001b[0m\n\u001b[1;32m    179\u001b[0m \u001b[1;32mfrom\u001b[0m \u001b[0mnumpy\u001b[0m \u001b[1;32mimport\u001b[0m \u001b[0marray\u001b[0m\u001b[1;33m,\u001b[0m \u001b[0masarray\u001b[0m\u001b[1;33m,\u001b[0m \u001b[0mma\u001b[0m\u001b[1;33m,\u001b[0m \u001b[0mzeros\u001b[0m\u001b[1;33m\u001b[0m\u001b[0m\n\u001b[0;32m--> 180\u001b[0;31m \u001b[1;32mimport\u001b[0m \u001b[0mscipy\u001b[0m\u001b[1;33m.\u001b[0m\u001b[0mspecial\u001b[0m \u001b[1;32mas\u001b[0m \u001b[0mspecial\u001b[0m\u001b[1;33m\u001b[0m\u001b[0m\n\u001b[0m\u001b[1;32m    181\u001b[0m \u001b[1;32mimport\u001b[0m \u001b[0mscipy\u001b[0m\u001b[1;33m.\u001b[0m\u001b[0mlinalg\u001b[0m \u001b[1;32mas\u001b[0m \u001b[0mlinalg\u001b[0m\u001b[1;33m\u001b[0m\u001b[0m\n\u001b[1;32m    182\u001b[0m \u001b[1;32mimport\u001b[0m \u001b[0mnumpy\u001b[0m \u001b[1;32mas\u001b[0m \u001b[0mnp\u001b[0m\u001b[1;33m\u001b[0m\u001b[0m\n",
      "\u001b[0;32mc:\\python27\\lib\\site-packages\\scipy\\special\\__init__.py\u001b[0m in \u001b[0;36m<module>\u001b[0;34m()\u001b[0m\n\u001b[1;32m    599\u001b[0m \u001b[1;32mfrom\u001b[0m \u001b[0m__future__\u001b[0m \u001b[1;32mimport\u001b[0m \u001b[0mdivision\u001b[0m\u001b[1;33m,\u001b[0m \u001b[0mprint_function\u001b[0m\u001b[1;33m,\u001b[0m \u001b[0mabsolute_import\u001b[0m\u001b[1;33m\u001b[0m\u001b[0m\n\u001b[1;32m    600\u001b[0m \u001b[1;33m\u001b[0m\u001b[0m\n\u001b[0;32m--> 601\u001b[0;31m \u001b[1;32mfrom\u001b[0m \u001b[1;33m.\u001b[0m\u001b[0m_ufuncs\u001b[0m \u001b[1;32mimport\u001b[0m \u001b[1;33m*\u001b[0m\u001b[1;33m\u001b[0m\u001b[0m\n\u001b[0m\u001b[1;32m    602\u001b[0m \u001b[1;33m\u001b[0m\u001b[0m\n\u001b[1;32m    603\u001b[0m \u001b[1;32mfrom\u001b[0m \u001b[1;33m.\u001b[0m\u001b[0mbasic\u001b[0m \u001b[1;32mimport\u001b[0m \u001b[1;33m*\u001b[0m\u001b[1;33m\u001b[0m\u001b[0m\n",
      "\u001b[0;31mImportError\u001b[0m: DLL load failed: The specified module could not be found."
     ]
    }
   ],
   "source": [
    "import numpy as np\n",
    "import pandas as pd\n",
    "from scipy.stats import norm"
   ]
  },
  {
   "cell_type": "markdown",
   "metadata": {},
   "source": [
    "# Auxiliary Functions"
   ]
  },
  {
   "cell_type": "code",
   "execution_count": 2,
   "metadata": {
    "collapsed": true
   },
   "outputs": [],
   "source": [
    "def getExcelFrame(**kwargs):\n",
    "    return pd.read_clipboard(**dict(kwargs, header = kwargs.get(\"header\", None))).as_matrix()"
   ]
  },
  {
   "cell_type": "code",
   "execution_count": 3,
   "metadata": {
    "collapsed": true
   },
   "outputs": [],
   "source": [
    "def pasteExcelFrame(x, header = False, index = False):\n",
    "    pd.DataFrame(x).to_clipboard(header, index)"
   ]
  },
  {
   "cell_type": "code",
   "execution_count": 40,
   "metadata": {
    "collapsed": true
   },
   "outputs": [],
   "source": [
    "def getLHNormals(intervals, dimensions):\n",
    "    U = np.array([(np.random.permutation(intervals) + np.random.uniform(size = intervals))/intervals for _ in range(dimensions) ]).T"
   ]
  },
  {
   "cell_type": "markdown",
   "metadata": {
    "heading_collapsed": true
   },
   "source": [
    "# Bank Account"
   ]
  },
  {
   "cell_type": "markdown",
   "metadata": {
    "heading_collapsed": true,
    "hidden": true
   },
   "source": [
    "## Naive Simulation"
   ]
  },
  {
   "cell_type": "code",
   "execution_count": 9,
   "metadata": {
    "collapsed": false,
    "hidden": true
   },
   "outputs": [
    {
     "name": "stderr",
     "output_type": "stream",
     "text": [
      "c:\\python27\\lib\\site-packages\\ipykernel\\__main__.py:31: RuntimeWarning: overflow encountered in double_scalars\n",
      "c:\\python27\\lib\\site-packages\\ipykernel\\__main__.py:31: RuntimeWarning: invalid value encountered in double_scalars\n"
     ]
    }
   ],
   "source": [
    "time_steps = 10*20\n",
    "date0 = 42680\n",
    "dateT = 49985\n",
    "t = np.linspace(date0, dateT, time_steps + 1)\n",
    "#t = np.arange(date0, dateT, 0.25)\n",
    "#time_steps = len(t) - 1\n",
    "\n",
    "time_increment = np.ediff1d(t)/365.25\n",
    "time_increment_sqrt = np.sqrt(time_increment)\n",
    "\n",
    "# kappa\n",
    "kappa = 15.0/100.0\n",
    "\n",
    "# Local Vol \n",
    "a = 1.630971318402\n",
    "b = 0.021415362451\n",
    "c = 0.242030093001\n",
    "\n",
    "sim_num = 1000\n",
    "simulations = np.zeros((sim_num, 2))\n",
    "extrange_brownians = np.empty((0,))\n",
    "extrange_path = np.empty(0)\n",
    "for path in range(sim_num):\n",
    "    x = 0\n",
    "    y = 0\n",
    "    brownians = np.random.normal(0, scale = time_increment_sqrt)\n",
    "    current_path = np.empty((0,2))\n",
    "    for delta, w in zip(time_increment, brownians):\n",
    "        local_vol = a*(b + c*x)\n",
    "        x += (y - kappa*x)*delta + local_vol*w\n",
    "        y += (local_vol**2 - 2*kappa*y)*delta\n",
    "        current_path = np.vstack((current_path, [x,y]))\n",
    "        #print x, y, w\n",
    "        \n",
    "    if not np.isfinite(x):\n",
    "        extrange_brownians = brownians\n",
    "        extrange_path = current_path\n",
    "        \n",
    "    simulations[path, :] = [x, y]"
   ]
  },
  {
   "cell_type": "markdown",
   "metadata": {
    "heading_collapsed": true,
    "hidden": true
   },
   "source": [
    "## Modified Simulation"
   ]
  },
  {
   "cell_type": "code",
   "execution_count": 34,
   "metadata": {
    "collapsed": false,
    "hidden": true
   },
   "outputs": [
    {
     "name": "stderr",
     "output_type": "stream",
     "text": [
      "c:\\python27\\lib\\site-packages\\ipykernel\\__main__.py:31: RuntimeWarning: overflow encountered in double_scalars\n",
      "c:\\python27\\lib\\site-packages\\ipykernel\\__main__.py:31: RuntimeWarning: invalid value encountered in double_scalars\n"
     ]
    }
   ],
   "source": [
    "time_steps = 10*20\n",
    "date0 = 42680\n",
    "dateT = 49985\n",
    "t = np.linspace(date0, dateT, time_steps + 1)\n",
    "#t = np.arange(date0, dateT, 0.25)\n",
    "#time_steps = len(t) - 1\n",
    "\n",
    "time_increment = np.ediff1d(t)/365.25\n",
    "time_increment_sqrt = np.sqrt(time_increment)\n",
    "\n",
    "# kappa\n",
    "kappa = 10.0/100.0\n",
    "\n",
    "# Local Vol \n",
    "a = 1.008013828832\n",
    "b = 0.021415362451\n",
    "c = 0.303827531444\n",
    "\n",
    "sim_num = 1000\n",
    "simulations = np.zeros((sim_num, 2))\n",
    "extrange_brownians = np.empty((0,))\n",
    "extrange_path = np.empty(0)\n",
    "for path in range(sim_num):\n",
    "    x = 0\n",
    "    y = 0\n",
    "    brownians = np.random.normal(0, scale = time_increment_sqrt)\n",
    "    current_path = np.empty((0,2))\n",
    "    for delta, w in zip(time_increment, brownians):\n",
    "        local_vol = a*(b + c*x)\n",
    "        x += np.exp(-delta*kappa)*(y*delta + local_vol*w)\n",
    "        y += (local_vol**2 - 2*kappa*y)*delta\n",
    "        current_path = np.vstack((current_path, [x,y]))\n",
    "        #print x, y, w\n",
    "        \n",
    "    if not np.isfinite(x):\n",
    "        extrange_brownians = brownians\n",
    "        extrange_path = current_path\n",
    "        \n",
    "    simulations[path, :] = [x, y]"
   ]
  },
  {
   "cell_type": "markdown",
   "metadata": {
    "hidden": true
   },
   "source": [
    "## Clean simulations of NaN"
   ]
  },
  {
   "cell_type": "code",
   "execution_count": 10,
   "metadata": {
    "collapsed": false,
    "hidden": true
   },
   "outputs": [
    {
     "data": {
      "text/plain": [
       "array([ nan,  nan])"
      ]
     },
     "execution_count": 10,
     "metadata": {},
     "output_type": "execute_result"
    }
   ],
   "source": [
    "simulations.max(axis = 0)"
   ]
  },
  {
   "cell_type": "code",
   "execution_count": 11,
   "metadata": {
    "collapsed": false,
    "hidden": true
   },
   "outputs": [
    {
     "data": {
      "text/plain": [
       "array([ 0.28569605,  0.33588187, -0.00138076, -0.11944366,  0.68254378,\n",
       "        0.09164283, -0.24371046,  0.57077138,  0.04935418, -0.01599648,\n",
       "       -0.1458389 , -0.38972155,  0.21391043,  0.18114345, -0.51843249,\n",
       "        0.20024247,  0.1839545 , -0.03324305,  0.5976847 ,  0.0350407 ,\n",
       "        0.52997282, -0.02355868,  0.0996549 ,  0.76559248, -0.06631759,\n",
       "        0.48910508,  0.04532848, -0.18322463, -0.41794213, -0.07263862,\n",
       "        0.11085037,  0.24763436,  0.22461829,  0.21299734, -0.46768064,\n",
       "        0.33594472,  0.24596446,  0.2790287 ,  0.73206883,  0.01479979,\n",
       "        0.20294951,  0.70980537,  0.22876859,  0.14397543,  0.16847713,\n",
       "       -0.24858556, -0.19847248,  0.2347012 ,  0.30573767,  0.00482132,\n",
       "       -0.55348499, -0.08213763,  0.37419508, -0.40710958, -0.03696506,\n",
       "       -0.08132787, -0.20373228,  0.141032  , -0.03964314,  0.37433766,\n",
       "       -0.05835395, -0.21521069,  0.5049292 ,  0.14093798, -0.07632755,\n",
       "       -0.09988902, -0.13975958,  0.12818539, -0.03580919, -0.21934951,\n",
       "        0.20021217, -0.32238064,  0.343894  ,  0.52837094,  0.44417093,\n",
       "        0.34345224,  0.19765929, -0.48794947,  0.18569984,  0.28253879,\n",
       "        0.01213282, -0.2646676 ,  0.15172105,  0.14578133, -0.30304747,\n",
       "       -0.01765243,  0.4580688 ,  0.23379869,  0.07014425,  0.25180564,\n",
       "        0.02710259,  0.05290394,  0.31480191, -0.54310174, -0.49192927,\n",
       "        0.30714653, -0.06555721,  0.46320693,  0.82419069, -0.11744539,\n",
       "       -0.03121179,  0.56895422, -0.26238408, -0.55997198, -0.0514943 ,\n",
       "        0.01810072,  0.34334004,  0.0782177 , -0.25389736, -0.18459373,\n",
       "        0.71257208,  0.36940557, -0.23687197,  0.15504971, -0.107195  ,\n",
       "        0.01524494,  0.56444725, -0.22334161, -0.47650266,  0.76262508,\n",
       "       -0.17480759,  0.10248097,  0.44421126,  0.20097327, -0.06175816,\n",
       "       -0.46320975, -0.19693883, -0.72374092,  0.22076699, -0.22377567,\n",
       "       -0.35662284,  0.08749701, -0.04746692, -0.24199778,  0.64795525,\n",
       "        0.41555619, -0.22159699,  0.2925028 ,  0.56234517,  0.00164653,\n",
       "        0.13922667, -0.15244892,  0.46643764,  0.26739683, -0.13290534,\n",
       "       -0.41600395,  0.36988872,  0.22205073,  0.07966064, -0.20857473,\n",
       "       -0.34475511,  0.05021897, -0.22127941,  0.08500808,  0.43242932,\n",
       "        0.36373821,  0.08612727,  0.09963349,  0.64560301,  0.05489307,\n",
       "        0.26118378,  0.04732327,  0.04300364, -0.26490952, -0.28864078,\n",
       "        0.32635105,  0.67470918, -0.65728005, -0.39555118, -0.38652884,\n",
       "       -0.28875062, -0.49078202,  0.51929502, -0.28768787, -0.10163861,\n",
       "       -0.16013644, -0.01918632, -0.6044372 ,  0.0039838 ,  0.18625134,\n",
       "        0.30161431, -0.38922733,  0.05065511, -0.57706357,  0.14131259,\n",
       "        0.10721342, -0.247397  ,  0.40701677, -0.44113364, -0.02689564,\n",
       "       -0.33488731, -0.20133448,  0.12745933,  0.16892468, -0.09023198,\n",
       "       -0.30461398, -0.10461657, -0.26603257, -0.51189101,  0.30356166])"
      ]
     },
     "execution_count": 11,
     "metadata": {},
     "output_type": "execute_result"
    }
   ],
   "source": [
    "extrange_brownians"
   ]
  },
  {
   "cell_type": "code",
   "execution_count": 31,
   "metadata": {
    "collapsed": false,
    "hidden": true
   },
   "outputs": [
    {
     "data": {
      "text/plain": [
       "3"
      ]
     },
     "execution_count": 31,
     "metadata": {},
     "output_type": "execute_result"
    }
   ],
   "source": [
    "(np.isnan(simulations).sum(axis = 1) != 0).sum()"
   ]
  },
  {
   "cell_type": "code",
   "execution_count": null,
   "metadata": {
    "collapsed": true,
    "hidden": true
   },
   "outputs": [],
   "source": [
    "isNan = np.isnan(simulations).sum(axis = 1) == 1\n",
    "isInf = np.isinf(simulations).sum(axis = 1) == 1\n",
    "simulations = simulations[np.isfinite(simulations).prod(axis = 1) == 1]\n",
    "simulations = simulations[(simulations < 100).prod(axis = 1)]"
   ]
  },
  {
   "cell_type": "markdown",
   "metadata": {
    "heading_collapsed": true,
    "hidden": true
   },
   "source": [
    "## Plot results"
   ]
  },
  {
   "cell_type": "code",
   "execution_count": null,
   "metadata": {
    "collapsed": false,
    "hidden": true
   },
   "outputs": [],
   "source": [
    "import matplotlib.mlab as mlab\n",
    "import matplotlib.pyplot as plt\n",
    "\n",
    "plt.close('all')\n",
    "f, axarr = plt.subplots(2)\n",
    "\n",
    "num_bins = 50\n",
    "n, bins, patches = axarr[0].hist(simulations[:, 0], num_bins, normed=1, facecolor='green', alpha=0.5)\n",
    "axarr[0].set_title('X Histogram')\n",
    "n, bins, patches = axarr[1].hist(simulations[:, 1], num_bins, normed=1, facecolor='green', alpha=0.5)\n",
    "axarr[1].set_title('Y Histogram')\n",
    "plt.show()"
   ]
  },
  {
   "cell_type": "markdown",
   "metadata": {
    "heading_collapsed": true,
    "hidden": true
   },
   "source": [
    "## Calculate moments"
   ]
  },
  {
   "cell_type": "code",
   "execution_count": null,
   "metadata": {
    "collapsed": false,
    "hidden": true
   },
   "outputs": [],
   "source": [
    "greater_moments = np.array([scipy.stats.moment(simulations, moment=x, axis=0) for x in (2,3)])\n",
    "means = np.mean(simulations, 0)\n",
    "moments = np.vstack((means, greater_moments))\n",
    "moments[1,1] = np.cov(simulations[:,0], simulations[:,1])[0,1]\n",
    "print \"first moment: \", means\n",
    "print \"second moment: \", greater_moments[0,:]\n",
    "print \"third moment: \", greater_moments[1,:]"
   ]
  },
  {
   "cell_type": "code",
   "execution_count": null,
   "metadata": {
    "collapsed": true,
    "hidden": true
   },
   "outputs": [],
   "source": [
    "experimental_values = getExcelFrame().reshape(2,3).T"
   ]
  },
  {
   "cell_type": "code",
   "execution_count": null,
   "metadata": {
    "collapsed": false,
    "hidden": true
   },
   "outputs": [],
   "source": [
    "experimental_values"
   ]
  },
  {
   "cell_type": "code",
   "execution_count": null,
   "metadata": {
    "collapsed": false,
    "hidden": true
   },
   "outputs": [],
   "source": [
    "significan_level = 1.0000000827403710e-011\n",
    "norm_value = scipy.stats.norm.ppf([significan_level/2.0, 1.0 - significan_level/2.0])\n",
    "simulations_quantiles = np.percentile(simulations, [100*significan_level/2.0, 100*(1.0 - significan_level/2.0)])"
   ]
  },
  {
   "cell_type": "markdown",
   "metadata": {},
   "source": [
    "# Terminal Measure"
   ]
  },
  {
   "cell_type": "markdown",
   "metadata": {},
   "source": [
    "## Simulation"
   ]
  },
  {
   "cell_type": "code",
   "execution_count": 19,
   "metadata": {
    "collapsed": false
   },
   "outputs": [
    {
     "name": "stdout",
     "output_type": "stream",
     "text": [
      "Wall time: 1h 33min 27s\n"
     ]
    }
   ],
   "source": [
    "%%time\n",
    "time_steps = 24*20\n",
    "date0 = 42680\n",
    "dateT = 49985\n",
    "dates = np.linspace(date0, dateT, time_steps + 1)\n",
    "time_basis = 325.25\n",
    "time_increment = np.ediff1d(dates)/time_basis\n",
    "np.delete(dates, 0)\n",
    "\n",
    "# kappa\n",
    "kappa = 15.0/100.0\n",
    "\n",
    "# Local Vol \n",
    "a = 1.630971318402\n",
    "b = 0.021415362451\n",
    "c = 0.242030093001\n",
    "\n",
    "iter_no = 0\n",
    "sim_num = 10000\n",
    "simulations = np.zeros((sim_num, 2))\n",
    "extrange_brownians = np.empty((0,))\n",
    "extrange_path = np.empty(0)\n",
    "for path in range(sim_num):\n",
    "    for sub_path in range(hypercubes):\n",
    "        x = 0\n",
    "        y = 0\n",
    "        \n",
    "        brownians = np.random.normal(0, scale = np.sqrt(time_increment))\n",
    "        current_path = np.empty((0,2))\n",
    "        for date, delta, w in zip(dates, time_increment, brownians):\n",
    "            G = (1.0 - np.exp(-kappa*(dateT - date)/time_basis))/kappa\n",
    "            local_vol = a*(b + c*x)\n",
    "            x += (y - kappa*x - local_vol**2*G)*delta + local_vol*w\n",
    "            y += (local_vol**2 - 2*kappa*y)*delta\n",
    "            current_path = np.vstack((current_path, [x,y]))\n",
    "            #print x, y, w\n",
    "\n",
    "        if not np.isfinite(x):\n",
    "            extrange_brownians = brownians\n",
    "            extrange_path = current_path\n",
    "\n",
    "        simulations[iter_no, :] = [x, y]\n",
    "        iter_no = iter_no + 1"
   ]
  },
  {
   "cell_type": "code",
   "execution_count": 18,
   "metadata": {
    "collapsed": false
   },
   "outputs": [
    {
     "ename": "NameError",
     "evalue": "name 'sub' is not defined",
     "output_type": "error",
     "traceback": [
      "\u001b[0;31m---------------------------------------------------------------------------\u001b[0m",
      "\u001b[0;31mNameError\u001b[0m                                 Traceback (most recent call last)",
      "\u001b[0;32m<ipython-input-18-63d4b9c8fe4a>\u001b[0m in \u001b[0;36m<module>\u001b[0;34m()\u001b[0m\n\u001b[0;32m----> 1\u001b[0;31m \u001b[0mget_ipython\u001b[0m\u001b[1;33m(\u001b[0m\u001b[1;33m)\u001b[0m\u001b[1;33m.\u001b[0m\u001b[0mrun_cell_magic\u001b[0m\u001b[1;33m(\u001b[0m\u001b[1;34mu'time'\u001b[0m\u001b[1;33m,\u001b[0m \u001b[1;34mu''\u001b[0m\u001b[1;33m,\u001b[0m \u001b[1;34mu'time_steps = 24*20\\ndate0 = 42680\\ndateT = 49985\\ndates = np.linspace(date0, dateT, time_steps + 1)\\ntime_basis = 325.25\\ntime_increment = np.ediff1d(dates)/time_basis\\nnp.delete(dates, 0)\\n\\n# kappa\\nkappa = 15.0/100.0\\n\\n# Local Vol \\na = 1.630971318402\\nb = 0.021415362451\\nc = 0.242030093001\\n\\nsim_num = 100000\\nhypercubes = 20\\nsub\\nsimulations = np.zeros((sim_num, 2))\\nextrange_brownians = np.empty((0,))\\nextrange_path = np.empty(0)\\nfor path in range(sim_num):\\n    x = 0\\n    y = 0\\n    brownians = np.random.normal(0, scale = np.sqrt(time_increment))\\n    current_path = np.empty((0,2))\\n    for date, delta, w in zip(dates, time_increment, brownians):\\n        G = (1.0 - np.exp(-kappa*(dateT - date)/time_basis))/kappa\\n        local_vol = a*(b + c*x)\\n        x += (y - kappa*x - local_vol**2*G)*delta + local_vol*w\\n        y += (local_vol**2 - 2*kappa*y)*delta\\n        current_path = np.vstack((current_path, [x,y]))\\n        #print x, y, w\\n        \\n    if not np.isfinite(x):\\n        extrange_brownians = brownians\\n        extrange_path = current_path\\n        \\n    simulations[path, :] = [x, y]'\u001b[0m\u001b[1;33m)\u001b[0m\u001b[1;33m\u001b[0m\u001b[0m\n\u001b[0m",
      "\u001b[0;32mc:\\python27\\lib\\site-packages\\IPython\\core\\interactiveshell.pyc\u001b[0m in \u001b[0;36mrun_cell_magic\u001b[0;34m(self, magic_name, line, cell)\u001b[0m\n\u001b[1;32m   2113\u001b[0m             \u001b[0mmagic_arg_s\u001b[0m \u001b[1;33m=\u001b[0m \u001b[0mself\u001b[0m\u001b[1;33m.\u001b[0m\u001b[0mvar_expand\u001b[0m\u001b[1;33m(\u001b[0m\u001b[0mline\u001b[0m\u001b[1;33m,\u001b[0m \u001b[0mstack_depth\u001b[0m\u001b[1;33m)\u001b[0m\u001b[1;33m\u001b[0m\u001b[0m\n\u001b[1;32m   2114\u001b[0m             \u001b[1;32mwith\u001b[0m \u001b[0mself\u001b[0m\u001b[1;33m.\u001b[0m\u001b[0mbuiltin_trap\u001b[0m\u001b[1;33m:\u001b[0m\u001b[1;33m\u001b[0m\u001b[0m\n\u001b[0;32m-> 2115\u001b[0;31m                 \u001b[0mresult\u001b[0m \u001b[1;33m=\u001b[0m \u001b[0mfn\u001b[0m\u001b[1;33m(\u001b[0m\u001b[0mmagic_arg_s\u001b[0m\u001b[1;33m,\u001b[0m \u001b[0mcell\u001b[0m\u001b[1;33m)\u001b[0m\u001b[1;33m\u001b[0m\u001b[0m\n\u001b[0m\u001b[1;32m   2116\u001b[0m             \u001b[1;32mreturn\u001b[0m \u001b[0mresult\u001b[0m\u001b[1;33m\u001b[0m\u001b[0m\n\u001b[1;32m   2117\u001b[0m \u001b[1;33m\u001b[0m\u001b[0m\n",
      "\u001b[0;32m<decorator-gen-60>\u001b[0m in \u001b[0;36mtime\u001b[0;34m(self, line, cell, local_ns)\u001b[0m\n",
      "\u001b[0;32mc:\\python27\\lib\\site-packages\\IPython\\core\\magic.pyc\u001b[0m in \u001b[0;36m<lambda>\u001b[0;34m(f, *a, **k)\u001b[0m\n\u001b[1;32m    186\u001b[0m     \u001b[1;31m# but it's overkill for just that one bit of state.\u001b[0m\u001b[1;33m\u001b[0m\u001b[1;33m\u001b[0m\u001b[0m\n\u001b[1;32m    187\u001b[0m     \u001b[1;32mdef\u001b[0m \u001b[0mmagic_deco\u001b[0m\u001b[1;33m(\u001b[0m\u001b[0marg\u001b[0m\u001b[1;33m)\u001b[0m\u001b[1;33m:\u001b[0m\u001b[1;33m\u001b[0m\u001b[0m\n\u001b[0;32m--> 188\u001b[0;31m         \u001b[0mcall\u001b[0m \u001b[1;33m=\u001b[0m \u001b[1;32mlambda\u001b[0m \u001b[0mf\u001b[0m\u001b[1;33m,\u001b[0m \u001b[1;33m*\u001b[0m\u001b[0ma\u001b[0m\u001b[1;33m,\u001b[0m \u001b[1;33m**\u001b[0m\u001b[0mk\u001b[0m\u001b[1;33m:\u001b[0m \u001b[0mf\u001b[0m\u001b[1;33m(\u001b[0m\u001b[1;33m*\u001b[0m\u001b[0ma\u001b[0m\u001b[1;33m,\u001b[0m \u001b[1;33m**\u001b[0m\u001b[0mk\u001b[0m\u001b[1;33m)\u001b[0m\u001b[1;33m\u001b[0m\u001b[0m\n\u001b[0m\u001b[1;32m    189\u001b[0m \u001b[1;33m\u001b[0m\u001b[0m\n\u001b[1;32m    190\u001b[0m         \u001b[1;32mif\u001b[0m \u001b[0mcallable\u001b[0m\u001b[1;33m(\u001b[0m\u001b[0marg\u001b[0m\u001b[1;33m)\u001b[0m\u001b[1;33m:\u001b[0m\u001b[1;33m\u001b[0m\u001b[0m\n",
      "\u001b[0;32mc:\\python27\\lib\\site-packages\\IPython\\core\\magics\\execution.pyc\u001b[0m in \u001b[0;36mtime\u001b[0;34m(self, line, cell, local_ns)\u001b[0m\n\u001b[1;32m   1178\u001b[0m         \u001b[1;32melse\u001b[0m\u001b[1;33m:\u001b[0m\u001b[1;33m\u001b[0m\u001b[0m\n\u001b[1;32m   1179\u001b[0m             \u001b[0mst\u001b[0m \u001b[1;33m=\u001b[0m \u001b[0mclock2\u001b[0m\u001b[1;33m(\u001b[0m\u001b[1;33m)\u001b[0m\u001b[1;33m\u001b[0m\u001b[0m\n\u001b[0;32m-> 1180\u001b[0;31m             \u001b[1;32mexec\u001b[0m\u001b[1;33m(\u001b[0m\u001b[0mcode\u001b[0m\u001b[1;33m,\u001b[0m \u001b[0mglob\u001b[0m\u001b[1;33m,\u001b[0m \u001b[0mlocal_ns\u001b[0m\u001b[1;33m)\u001b[0m\u001b[1;33m\u001b[0m\u001b[0m\n\u001b[0m\u001b[1;32m   1181\u001b[0m             \u001b[0mend\u001b[0m \u001b[1;33m=\u001b[0m \u001b[0mclock2\u001b[0m\u001b[1;33m(\u001b[0m\u001b[1;33m)\u001b[0m\u001b[1;33m\u001b[0m\u001b[0m\n\u001b[1;32m   1182\u001b[0m             \u001b[0mout\u001b[0m \u001b[1;33m=\u001b[0m \u001b[0mNone\u001b[0m\u001b[1;33m\u001b[0m\u001b[0m\n",
      "\u001b[0;32m<timed exec>\u001b[0m in \u001b[0;36m<module>\u001b[0;34m()\u001b[0m\n",
      "\u001b[0;31mNameError\u001b[0m: name 'sub' is not defined"
     ]
    }
   ],
   "source": [
    "%%time\n",
    "time_steps = 24*20\n",
    "date0 = 42680\n",
    "dateT = 49985\n",
    "dates = np.linspace(date0, dateT, time_steps + 1)\n",
    "time_basis = 325.25\n",
    "time_increment = np.ediff1d(dates)/time_basis\n",
    "np.delete(dates, 0)\n",
    "\n",
    "# kappa\n",
    "kappa = 15.0/100.0\n",
    "\n",
    "# Local Vol \n",
    "a = 1.630971318402\n",
    "b = 0.021415362451\n",
    "c = 0.242030093001\n",
    "\n",
    "sim_num = 100000\n",
    "hypercubes = 20\n",
    "sub\n",
    "simulations = np.zeros((sim_num, 2))\n",
    "extrange_brownians = np.empty((0,))\n",
    "extrange_path = np.empty(0)\n",
    "for path in range(sim_num):\n",
    "    x = 0\n",
    "    y = 0\n",
    "    brownians = np.random.normal(0, scale = np.sqrt(time_increment))\n",
    "    current_path = np.empty((0,2))\n",
    "    for date, delta, w in zip(dates, time_increment, brownians):\n",
    "        G = (1.0 - np.exp(-kappa*(dateT - date)/time_basis))/kappa\n",
    "        local_vol = a*(b + c*x)\n",
    "        x += (y - kappa*x - local_vol**2*G)*delta + local_vol*w\n",
    "        y += (local_vol**2 - 2*kappa*y)*delta\n",
    "        current_path = np.vstack((current_path, [x,y]))\n",
    "        #print x, y, w\n",
    "        \n",
    "    if not np.isfinite(x):\n",
    "        extrange_brownians = brownians\n",
    "        extrange_path = current_path\n",
    "        \n",
    "    simulations[path, :] = [x, y]"
   ]
  },
  {
   "cell_type": "code",
   "execution_count": 14,
   "metadata": {
    "collapsed": false
   },
   "outputs": [
    {
     "data": {
      "text/plain": [
       "array([ 1.34523382,  0.22504383])"
      ]
     },
     "execution_count": 14,
     "metadata": {},
     "output_type": "execute_result"
    }
   ],
   "source": [
    "simulations.max(axis = 0)"
   ]
  },
  {
   "cell_type": "code",
   "execution_count": 15,
   "metadata": {
    "collapsed": false
   },
   "outputs": [
    {
     "data": {
      "text/plain": [
       "array([], dtype=float64)"
      ]
     },
     "execution_count": 15,
     "metadata": {},
     "output_type": "execute_result"
    }
   ],
   "source": [
    "extrange_path"
   ]
  },
  {
   "cell_type": "code",
   "execution_count": 20,
   "metadata": {
    "collapsed": false
   },
   "outputs": [
    {
     "name": "stdout",
     "output_type": "stream",
     "text": [
      "Wall time: 1.97 s\n"
     ]
    }
   ],
   "source": [
    "%%time\n",
    "pd.DataFrame(simulations).to_csv(r\"C:\\Users\\e022434\\cheyette2.csv\" , index = False, header = False, mode = 'w+')"
   ]
  },
  {
   "cell_type": "markdown",
   "metadata": {
    "collapsed": true
   },
   "source": [
    "# Simulation under Terminal Measure"
   ]
  },
  {
   "cell_type": "markdown",
   "metadata": {},
   "source": [
    "## Simulation"
   ]
  },
  {
   "cell_type": "markdown",
   "metadata": {
    "slideshow": {
     "slide_type": "-"
    }
   },
   "source": [
    "### Results\n",
    "The table of contents is automatically updated when modifications occur in the notebook. The toc window can be moved and resized. It can be docked as a sidebar or dragged from the sidebar into a floating window. The table of contents can be collapsed or the window can be completely hidden. The navigation menu can be enabled/disabled via the nbextensions configuration utility. It can also be resized. The position, dimensions, and states (that is 'collapsed' and 'hidden' states) are remembered (actually stored in the notebook's metadata) and restored on the next session. The toc window also provides two links in its header for further functionalities:\n",
    "\n",
    "The table of contents is automatically updated when modifications occur in the notebook. The toc window can be moved and resized. It can be docked as a sidebar or dragged from the sidebar into a floating window. The table of contents can be collapsed or the window can be completely hidden. The navigation menu can be enabled/disabled via the nbextensions configuration utility. It can also be resized. The position, dimensions, and states (that is 'collapsed' and 'hidden' states) are remembered (actually stored in the notebook's metadata) and restored on the next session. The toc window also provides two links in its header for further functionalities:"
   ]
  },
  {
   "cell_type": "code",
   "execution_count": 2,
   "metadata": {
    "collapsed": false
   },
   "outputs": [],
   "source": [
    "time_steps = 100*20\n",
    "date0 = 42680\n",
    "dateT = 49985\n",
    "dates = np.linspace(date0, dateT, time_steps + 1)\n",
    "time_basis = 325.25\n",
    "time_increment = np.ediff1d(dates)/time_basis\n",
    "np.delete(dates, 0)\n",
    "\n",
    "# kappa\n",
    "kappa = 3.0/100.0\n",
    "\n",
    "# Local Vol \n",
    "a = 0.390061086639\n",
    "b = 0.021415362451\n",
    "c = 0.456175152234\n",
    "\n",
    "sim_num = 10000\n",
    "simulations = np.zeros((sim_num, 2))\n",
    "extrange_brownians = np.empty((0,))\n",
    "extrange_path = np.empty(0)\n",
    "for path in range(sim_num):\n",
    "    x = 0\n",
    "    y = 0\n",
    "    brownians = np.random.normal(0, scale = np.sqrt(time_increment))\n",
    "    current_path = np.empty((0,2))\n",
    "    for date, delta, w in zip(dates, time_increment, brownians):\n",
    "        G = (1.0 - np.exp(-kappa*(dateT - date)/time_basis))/kappa\n",
    "        local_vol = a*(b + c*x)\n",
    "        x += (y - kappa*x - local_vol**2*G)*delta + local_vol*w\n",
    "        y += (local_vol**2 - 2*kappa*y)*delta\n",
    "        current_path = np.vstack((current_path, [x,y]))\n",
    "        #print x, y, w\n",
    "        \n",
    "    if not np.isfinite(x):\n",
    "        extrange_brownians = brownians\n",
    "        extrange_path = current_path\n",
    "        \n",
    "    simulations[path, :] = [x, y]"
   ]
  },
  {
   "cell_type": "code",
   "execution_count": 1,
   "metadata": {
    "collapsed": false
   },
   "outputs": [
    {
     "data": {
      "application/json": {
       "cell": {
        "!": "OSMagics",
        "HTML": "Other",
        "SVG": "Other",
        "bash": "Other",
        "capture": "ExecutionMagics",
        "cmd": "Other",
        "debug": "ExecutionMagics",
        "file": "Other",
        "html": "DisplayMagics",
        "javascript": "DisplayMagics",
        "latex": "DisplayMagics",
        "perl": "Other",
        "prun": "ExecutionMagics",
        "pypy": "Other",
        "python": "Other",
        "python2": "Other",
        "python3": "Other",
        "ruby": "Other",
        "script": "ScriptMagics",
        "sh": "Other",
        "svg": "DisplayMagics",
        "sx": "OSMagics",
        "system": "OSMagics",
        "time": "ExecutionMagics",
        "timeit": "ExecutionMagics",
        "writefile": "OSMagics"
       },
       "line": {
        "alias": "OSMagics",
        "alias_magic": "BasicMagics",
        "autocall": "AutoMagics",
        "automagic": "AutoMagics",
        "autosave": "KernelMagics",
        "bookmark": "OSMagics",
        "cd": "OSMagics",
        "clear": "KernelMagics",
        "cls": "KernelMagics",
        "colors": "BasicMagics",
        "config": "ConfigMagics",
        "connect_info": "KernelMagics",
        "copy": "Other",
        "ddir": "Other",
        "debug": "ExecutionMagics",
        "dhist": "OSMagics",
        "dirs": "OSMagics",
        "doctest_mode": "BasicMagics",
        "echo": "Other",
        "ed": "Other",
        "edit": "KernelMagics",
        "env": "OSMagics",
        "gui": "BasicMagics",
        "hist": "Other",
        "history": "HistoryMagics",
        "install_default_config": "DeprecatedMagics",
        "install_ext": "ExtensionMagics",
        "install_profiles": "DeprecatedMagics",
        "killbgscripts": "ScriptMagics",
        "ldir": "Other",
        "less": "KernelMagics",
        "load": "CodeMagics",
        "load_ext": "ExtensionMagics",
        "loadpy": "CodeMagics",
        "logoff": "LoggingMagics",
        "logon": "LoggingMagics",
        "logstart": "LoggingMagics",
        "logstate": "LoggingMagics",
        "logstop": "LoggingMagics",
        "ls": "Other",
        "lsmagic": "BasicMagics",
        "macro": "ExecutionMagics",
        "magic": "BasicMagics",
        "matplotlib": "PylabMagics",
        "mkdir": "Other",
        "more": "KernelMagics",
        "notebook": "BasicMagics",
        "page": "BasicMagics",
        "pastebin": "CodeMagics",
        "pdb": "ExecutionMagics",
        "pdef": "NamespaceMagics",
        "pdoc": "NamespaceMagics",
        "pfile": "NamespaceMagics",
        "pinfo": "NamespaceMagics",
        "pinfo2": "NamespaceMagics",
        "popd": "OSMagics",
        "pprint": "BasicMagics",
        "precision": "BasicMagics",
        "profile": "BasicMagics",
        "prun": "ExecutionMagics",
        "psearch": "NamespaceMagics",
        "psource": "NamespaceMagics",
        "pushd": "OSMagics",
        "pwd": "OSMagics",
        "pycat": "OSMagics",
        "pylab": "PylabMagics",
        "qtconsole": "KernelMagics",
        "quickref": "BasicMagics",
        "recall": "HistoryMagics",
        "rehashx": "OSMagics",
        "reload_ext": "ExtensionMagics",
        "ren": "Other",
        "rep": "Other",
        "rerun": "HistoryMagics",
        "reset": "NamespaceMagics",
        "reset_selective": "NamespaceMagics",
        "rmdir": "Other",
        "run": "ExecutionMagics",
        "save": "CodeMagics",
        "sc": "OSMagics",
        "set_env": "OSMagics",
        "store": "StoreMagics",
        "sx": "OSMagics",
        "system": "OSMagics",
        "tb": "ExecutionMagics",
        "time": "ExecutionMagics",
        "timeit": "ExecutionMagics",
        "unalias": "OSMagics",
        "unload_ext": "ExtensionMagics",
        "who": "NamespaceMagics",
        "who_ls": "NamespaceMagics",
        "whos": "NamespaceMagics",
        "xdel": "NamespaceMagics",
        "xmode": "BasicMagics"
       }
      },
      "text/plain": [
       "Available line magics:\n",
       "%alias  %alias_magic  %autocall  %automagic  %autosave  %bookmark  %cd  %clear  %cls  %colors  %config  %connect_info  %copy  %ddir  %debug  %dhist  %dirs  %doctest_mode  %echo  %ed  %edit  %env  %gui  %hist  %history  %install_default_config  %install_ext  %install_profiles  %killbgscripts  %ldir  %less  %load  %load_ext  %loadpy  %logoff  %logon  %logstart  %logstate  %logstop  %ls  %lsmagic  %macro  %magic  %matplotlib  %mkdir  %more  %notebook  %page  %pastebin  %pdb  %pdef  %pdoc  %pfile  %pinfo  %pinfo2  %popd  %pprint  %precision  %profile  %prun  %psearch  %psource  %pushd  %pwd  %pycat  %pylab  %qtconsole  %quickref  %recall  %rehashx  %reload_ext  %ren  %rep  %rerun  %reset  %reset_selective  %rmdir  %run  %save  %sc  %set_env  %store  %sx  %system  %tb  %time  %timeit  %unalias  %unload_ext  %who  %who_ls  %whos  %xdel  %xmode\n",
       "\n",
       "Available cell magics:\n",
       "%%!  %%HTML  %%SVG  %%bash  %%capture  %%cmd  %%debug  %%file  %%html  %%javascript  %%latex  %%perl  %%prun  %%pypy  %%python  %%python2  %%python3  %%ruby  %%script  %%sh  %%svg  %%sx  %%system  %%time  %%timeit  %%writefile\n",
       "\n",
       "Automagic is ON, % prefix IS NOT needed for line magics."
      ]
     },
     "execution_count": 1,
     "metadata": {},
     "output_type": "execute_result"
    }
   ],
   "source": [
    "%lsmagic"
   ]
  },
  {
   "cell_type": "code",
   "execution_count": 85,
   "metadata": {
    "collapsed": true
   },
   "outputs": [],
   "source": [
    "NPV = getExcelFrame()"
   ]
  },
  {
   "cell_type": "code",
   "execution_count": 86,
   "metadata": {
    "collapsed": false
   },
   "outputs": [
    {
     "data": {
      "text/plain": [
       "20775330.136527173"
      ]
     },
     "execution_count": 86,
     "metadata": {},
     "output_type": "execute_result"
    }
   ],
   "source": [
    "NPV.std()"
   ]
  },
  {
   "cell_type": "code",
   "execution_count": 42,
   "metadata": {
    "collapsed": false
   },
   "outputs": [
    {
     "data": {
      "text/plain": [
       "29924728.42539531"
      ]
     },
     "execution_count": 42,
     "metadata": {},
     "output_type": "execute_result"
    }
   ],
   "source": [
    "NPV.std()"
   ]
  },
  {
   "cell_type": "code",
   "execution_count": 88,
   "metadata": {
    "collapsed": false
   },
   "outputs": [
    {
     "name": "stdout",
     "output_type": "stream",
     "text": [
      "11629596.8364\n"
     ]
    }
   ],
   "source": [
    "print NPV.mean()"
   ]
  },
  {
   "cell_type": "code",
   "execution_count": 57,
   "metadata": {
    "collapsed": true
   },
   "outputs": [],
   "source": [
    "npvs = getExcelFrame()"
   ]
  },
  {
   "cell_type": "code",
   "execution_count": 62,
   "metadata": {
    "collapsed": false
   },
   "outputs": [
    {
     "data": {
      "text/plain": [
       "0.29430787996632302"
      ]
     },
     "execution_count": 62,
     "metadata": {},
     "output_type": "execute_result"
    }
   ],
   "source": [
    "npvs.std()/100000000"
   ]
  },
  {
   "cell_type": "code",
   "execution_count": 63,
   "metadata": {
    "collapsed": false
   },
   "outputs": [
    {
     "data": {
      "text/plain": [
       "-0.00062986217636317929"
      ]
     },
     "execution_count": 63,
     "metadata": {},
     "output_type": "execute_result"
    }
   ],
   "source": [
    "npvs.mean()/100000000"
   ]
  },
  {
   "cell_type": "code",
   "execution_count": 64,
   "metadata": {
    "collapsed": false
   },
   "outputs": [
    {
     "data": {
      "text/plain": [
       "(1000000L, 2L)"
      ]
     },
     "execution_count": 64,
     "metadata": {},
     "output_type": "execute_result"
    }
   ],
   "source": [
    "simulations.shape"
   ]
  },
  {
   "cell_type": "code",
   "execution_count": 74,
   "metadata": {
    "collapsed": true
   },
   "outputs": [],
   "source": [
    "G_cte = \n",
    "valor = np.exp(-G_cte*simulations[:,0] - 0.5*G_cte**2*simulations[:,1])"
   ]
  },
  {
   "cell_type": "code",
   "execution_count": 69,
   "metadata": {
    "collapsed": false
   },
   "outputs": [
    {
     "data": {
      "text/plain": [
       "(1000000L,)"
      ]
     },
     "execution_count": 69,
     "metadata": {},
     "output_type": "execute_result"
    }
   ],
   "source": [
    "valor.shape"
   ]
  },
  {
   "cell_type": "code",
   "execution_count": 76,
   "metadata": {
    "collapsed": false
   },
   "outputs": [
    {
     "data": {
      "text/plain": [
       "0.32456040760821725"
      ]
     },
     "execution_count": 76,
     "metadata": {},
     "output_type": "execute_result"
    }
   ],
   "source": [
    "valor.std()"
   ]
  },
  {
   "cell_type": "code",
   "execution_count": 80,
   "metadata": {
    "collapsed": false
   },
   "outputs": [],
   "source": [
    "kappa = 10.0/100 \n",
    "G2 = (1.0 - np.exp(-kappa*(20)))/kappa"
   ]
  },
  {
   "cell_type": "code",
   "execution_count": 81,
   "metadata": {
    "collapsed": false
   },
   "outputs": [
    {
     "data": {
      "text/plain": [
       "8.6466471676338728"
      ]
     },
     "execution_count": 81,
     "metadata": {},
     "output_type": "execute_result"
    }
   ],
   "source": [
    "G2"
   ]
  },
  {
   "cell_type": "code",
   "execution_count": null,
   "metadata": {
    "collapsed": true
   },
   "outputs": [],
   "source": []
  }
 ],
 "metadata": {
  "kernelspec": {
   "display_name": "Python 2",
   "language": "python",
   "name": "python2"
  },
  "language_info": {
   "codemirror_mode": {
    "name": "ipython",
    "version": 2
   },
   "file_extension": ".py",
   "mimetype": "text/x-python",
   "name": "python",
   "nbconvert_exporter": "python",
   "pygments_lexer": "ipython2",
   "version": "2.7.11"
  },
  "toc": {
   "colors": {
    "hover_highlight": "#DAA520",
    "running_highlight": "#FF0000",
    "selected_highlight": "#FFD700"
   },
   "moveMenuLeft": true,
   "nav_menu": {
    "height": "172px",
    "width": "389px"
   },
   "navigate_menu": true,
   "number_sections": true,
   "sideBar": true,
   "threshold": 4,
   "toc_cell": false,
   "toc_position": {
    "height": "846px",
    "left": "0px",
    "right": "1102px",
    "top": "107px",
    "width": "178px"
   },
   "toc_section_display": "none",
   "toc_window_display": false
  }
 },
 "nbformat": 4,
 "nbformat_minor": 0
}
