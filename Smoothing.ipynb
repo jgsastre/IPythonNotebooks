{
 "cells": [
  {
   "cell_type": "code",
   "execution_count": 1,
   "metadata": {
    "collapsed": false
   },
   "outputs": [],
   "source": [
    "import numpy as np\n",
    "from scipy import stats\n",
    "from scipy.misc import comb"
   ]
  },
  {
   "cell_type": "code",
   "execution_count": 62,
   "metadata": {
    "collapsed": true
   },
   "outputs": [],
   "source": [
    "class Cap:\n",
    "    def __init__(self, maxValue):\n",
    "        self.maxValue = maxValue\n",
    "        \n",
    "    def __call__(self, x):\n",
    "        return np.minimum(x, self.maxValue)\n",
    "    \n",
    "class Floor:\n",
    "    def __init__(self, minValue):\n",
    "        self.minValue = minValue\n",
    "        \n",
    "    def __call__(self, x):\n",
    "        return np.maximum(x, self.minValue)"
   ]
  },
  {
   "cell_type": "code",
   "execution_count": 2,
   "metadata": {
    "collapsed": false
   },
   "outputs": [],
   "source": [
    "def black_scholes (forward, strike, variance, callPut):\n",
    "    \"\"\" Price an option using the Black-Scholes model.\n",
    "    forward: forward price\n",
    "    strike: strike price\n",
    "    variance: variance\n",
    "    discount: discount\n",
    "    cp: 0 for call, 1 for put\n",
    "    \"\"\"\n",
    "    \n",
    "    d1 = (strike - forward) / np.sqrt(variance);\n",
    "    call = np.sqrt(variance/(2.0 * np.pi)) * np.exp(-0.5 * d1 * d1) + (forward - strike) * (1.0 - stats.norm.cdf(d1))\n",
    "    \n",
    "    if (callPut == 0):\n",
    "        return call\n",
    "    else:\n",
    "        return call - (forward - strike)"
   ]
  },
  {
   "cell_type": "code",
   "execution_count": 61,
   "metadata": {
    "collapsed": false
   },
   "outputs": [],
   "source": [
    "class BlackScholesSmootherCap:\n",
    "    \n",
    "    def __init__(self, maxValue, variance):\n",
    "        self.maxValue = maxValue\n",
    "        self.variance = variance\n",
    "        \n",
    "    def __call__(self, x):\n",
    "        return self.maxValue - black_scholes(x, maxValue, self.variance, 1)\n",
    "        \n",
    "class BlackScholesSmootherFloor:\n",
    "    \n",
    "    def __init__(self, minValue, variance):\n",
    "        self.minValue = minValue\n",
    "        self.variance = variance\n",
    "        \n",
    "    def __call__(self, x):\n",
    "        return self.minValue + black_scholes(x, minValue, self.variance, 0)"
   ]
  },
  {
   "cell_type": "code",
   "execution_count": 77,
   "metadata": {
    "collapsed": false
   },
   "outputs": [],
   "source": [
    "minValue = 50\n",
    "real_function = Floor(minValue)\n",
    "smoother = BlackScholesSmootherFloor(minValue, 100)\n",
    "\n",
    "N = 1000\n",
    "maxX = 100\n",
    "x = np.linspace(0, maxX)\n",
    "y = np.apply_along_axis(lambda x: smoother(x) , 0, x)\n",
    "y_real = np.apply_along_axis(lambda x: real_function(x), 0, x)"
   ]
  },
  {
   "cell_type": "code",
   "execution_count": 78,
   "metadata": {
    "collapsed": false,
    "scrolled": true
   },
   "outputs": [
    {
     "data": {
      "image/png": "[encoded data removed]",
      "text/plain": [
       "<matplotlib.figure.Figure at 0x1f12b940>"
      ]
     },
     "metadata": {},
     "output_type": "display_data"
    }
   ],
   "source": [
    "import matplotlib.pyplot as plt\n",
    "plt.plot(x,y, \"g\")\n",
    "plt.plot(x,y_real, \"r\")\n",
    "\n",
    "plt.show()"
   ]
  },
  {
   "cell_type": "code",
   "execution_count": 70,
   "metadata": {
    "collapsed": false
   },
   "outputs": [
    {
     "data": {
      "text/plain": [
       "array([  0.00000000e+00,   0.00000000e+00,   0.00000000e+00,\n",
       "         0.00000000e+00,   0.00000000e+00,   0.00000000e+00,\n",
       "         0.00000000e+00,   0.00000000e+00,   0.00000000e+00,\n",
       "         0.00000000e+00,   0.00000000e+00,   0.00000000e+00,\n",
       "         0.00000000e+00,   0.00000000e+00,   0.00000000e+00,\n",
       "         0.00000000e+00,   0.00000000e+00,   0.00000000e+00,\n",
       "         4.76774176e-12,   3.36198980e-09,   8.82294238e-07,\n",
       "         8.78309819e-05,   3.41837384e-03,   5.46428771e-02,\n",
       "         3.89333026e-01,   3.89333026e-01,   5.46428771e-02,\n",
       "         3.41837384e-03,   8.78309819e-05,   8.82294231e-07,\n",
       "         3.36198980e-09,   4.76774176e-12,   0.00000000e+00,\n",
       "         0.00000000e+00,   0.00000000e+00,   0.00000000e+00,\n",
       "         0.00000000e+00,   0.00000000e+00,   0.00000000e+00,\n",
       "         0.00000000e+00,   0.00000000e+00,   0.00000000e+00,\n",
       "         0.00000000e+00,   0.00000000e+00,   0.00000000e+00,\n",
       "         0.00000000e+00,   0.00000000e+00,   0.00000000e+00,\n",
       "         0.00000000e+00,   0.00000000e+00])"
      ]
     },
     "execution_count": 70,
     "metadata": {},
     "output_type": "execute_result"
    }
   ],
   "source": [
    "y - y_real"
   ]
  },
  {
   "cell_type": "code",
   "execution_count": null,
   "metadata": {
    "collapsed": true
   },
   "outputs": [],
   "source": []
  }
 ],
 "metadata": {
  "kernelspec": {
   "display_name": "Python 2",
   "language": "python",
   "name": "python2"
  },
  "language_info": {
   "codemirror_mode": {
    "name": "ipython",
    "version": 2
   },
   "file_extension": ".py",
   "mimetype": "text/x-python",
   "name": "python",
   "nbconvert_exporter": "python",
   "pygments_lexer": "ipython2",
   "version": "2.7.11"
  },
  "toc": {
   "colors": {
    "hover_highlight": "#DAA520",
    "running_highlight": "#FF0000",
    "selected_highlight": "#FFD700"
   },
   "moveMenuLeft": true,
   "nav_menu": {
    "height": "12px",
    "width": "252px"
   },
   "navigate_menu": true,
   "number_sections": true,
   "sideBar": true,
   "threshold": 4,
   "toc_cell": false,
   "toc_section_display": "block",
   "toc_window_display": false
  }
 },
 "nbformat": 4,
 "nbformat_minor": 2
}
